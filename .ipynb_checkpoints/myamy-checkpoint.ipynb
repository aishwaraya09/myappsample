{
 "cells": [
  {
   "cell_type": "markdown",
   "id": "45bfcba3",
   "metadata": {},
   "source": [
    "##to add:"
   ]
  },
  {
   "cell_type": "code",
   "execution_count": 2,
   "id": "caa07ad4",
   "metadata": {},
   "outputs": [
    {
     "data": {
      "text/plain": [
       "9"
      ]
     },
     "execution_count": 2,
     "metadata": {},
     "output_type": "execute_result"
    }
   ],
   "source": [
    "def to_add(a, b):\n",
    "    result = a+b\n",
    "    return result\n",
    "to_add(2, 7)"
   ]
  },
  {
   "cell_type": "code",
   "execution_count": null,
   "id": "51f623db",
   "metadata": {},
   "outputs": [],
   "source": []
  }
 ],
 "metadata": {
  "kernelspec": {
   "display_name": "Python 3 (ipykernel)",
   "language": "python",
   "name": "python3"
  },
  "language_info": {
   "codemirror_mode": {
    "name": "ipython",
    "version": 3
   },
   "file_extension": ".py",
   "mimetype": "text/x-python",
   "name": "python",
   "nbconvert_exporter": "python",
   "pygments_lexer": "ipython3",
   "version": "3.10.9"
  }
 },
 "nbformat": 4,
 "nbformat_minor": 5
}
